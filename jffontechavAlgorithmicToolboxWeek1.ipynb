{
  "nbformat": 4,
  "nbformat_minor": 0,
  "metadata": {
    "colab": {
      "name": "jffontechavAlgorithmicToolboxWeek1.ipynb",
      "provenance": [],
      "authorship_tag": "ABX9TyPe6ZIqYn1N3pKvO82/Q8xT",
      "include_colab_link": true
    },
    "kernelspec": {
      "name": "python3",
      "display_name": "Python 3"
    }
  },
  "cells": [
    {
      "cell_type": "markdown",
      "metadata": {
        "id": "view-in-github",
        "colab_type": "text"
      },
      "source": [
        "<a href=\"https://colab.research.google.com/github/jffontechav/AlgorithmsUN2020II/blob/master/jffontechavAlgorithmicToolboxWeek1.ipynb\" target=\"_parent\"><img src=\"https://colab.research.google.com/assets/colab-badge.svg\" alt=\"Open In Colab\"/></a>"
      ]
    },
    {
      "cell_type": "markdown",
      "metadata": {
        "id": "kg1z9HtPQv1w"
      },
      "source": [
        "### **Sum of two Digits Programming**"
      ]
    },
    {
      "cell_type": "markdown",
      "metadata": {
        "id": "0xhnX5OrQymO"
      },
      "source": [
        "##### **C++**"
      ]
    },
    {
      "cell_type": "code",
      "metadata": {
        "colab": {
          "base_uri": "https://localhost:8080/"
        },
        "id": "cahoS-OYCs25",
        "outputId": "992d314f-150f-4062-d2c3-3a329dbe1cd8"
      },
      "source": [
        "%%writefile sum.cpp\n",
        "#include <iostream>\n",
        "\n",
        "int sum_of_two_digits(int first_digit, int second_digit) {\n",
        "    return first_digit + second_digit;\n",
        "}\n",
        "\n",
        "int main() {\n",
        "    int a = 0;\n",
        "    int b = 0;\n",
        "    std::cin >> a;\n",
        "    std::cin >> b;\n",
        "    std::cout << sum_of_two_digits(a, b);\n",
        "    return 0;\n",
        "}"
      ],
      "execution_count": 38,
      "outputs": [
        {
          "output_type": "stream",
          "text": [
            "Overwriting sum.cpp\n"
          ],
          "name": "stdout"
        }
      ]
    },
    {
      "cell_type": "markdown",
      "metadata": {
        "id": "SP5VXMHnC3Q5"
      },
      "source": [
        "Running file using Linux commands\n"
      ]
    },
    {
      "cell_type": "code",
      "metadata": {
        "colab": {
          "base_uri": "https://localhost:8080/"
        },
        "id": "KPkXMR8zC4QW",
        "outputId": "b0292b68-2624-4b3f-edbc-ddfea695ed4e"
      },
      "source": [
        "!g++ sum.cpp -o sum\n",
        "!./sum"
      ],
      "execution_count": 4,
      "outputs": [
        {
          "output_type": "stream",
          "text": [
            "5 3\n",
            "8"
          ],
          "name": "stdout"
        }
      ]
    },
    {
      "cell_type": "markdown",
      "metadata": {
        "id": "Cg9OWg-QDDNx"
      },
      "source": [
        "**Testing input and output files**"
      ]
    },
    {
      "cell_type": "code",
      "metadata": {
        "colab": {
          "base_uri": "https://localhost:8080/"
        },
        "id": "zc1x-yHFC7xF",
        "outputId": "71a5dc04-2965-48b8-d1ee-0d6d8525d68b"
      },
      "source": [
        "%%writefile input1.txt\n",
        "5 9"
      ],
      "execution_count": 5,
      "outputs": [
        {
          "output_type": "stream",
          "text": [
            "Writing input1.txt\n"
          ],
          "name": "stdout"
        }
      ]
    },
    {
      "cell_type": "code",
      "metadata": {
        "colab": {
          "base_uri": "https://localhost:8080/"
        },
        "id": "J1iPQYQnC_vv",
        "outputId": "06716e64-b15a-414c-c892-149a6fc75a78"
      },
      "source": [
        "%%writefile output1.txt\n",
        "14"
      ],
      "execution_count": 6,
      "outputs": [
        {
          "output_type": "stream",
          "text": [
            "Writing output1.txt\n"
          ],
          "name": "stdout"
        }
      ]
    },
    {
      "cell_type": "code",
      "metadata": {
        "colab": {
          "base_uri": "https://localhost:8080/"
        },
        "id": "Nstgd5XMDRVr",
        "outputId": "a255495a-d1ca-466e-8cb9-884876a5f176"
      },
      "source": [
        "%%writefile input2.txt\n",
        "-5 10"
      ],
      "execution_count": 7,
      "outputs": [
        {
          "output_type": "stream",
          "text": [
            "Writing input2.txt\n"
          ],
          "name": "stdout"
        }
      ]
    },
    {
      "cell_type": "code",
      "metadata": {
        "colab": {
          "base_uri": "https://localhost:8080/"
        },
        "id": "Ga-nSDMLDSHq",
        "outputId": "7d748e91-c74e-4cbb-ad85-4666e4f9c346"
      },
      "source": [
        "%%writefile output2.txt\n",
        "5"
      ],
      "execution_count": 8,
      "outputs": [
        {
          "output_type": "stream",
          "text": [
            "Writing output2.txt\n"
          ],
          "name": "stdout"
        }
      ]
    },
    {
      "cell_type": "code",
      "metadata": {
        "colab": {
          "base_uri": "https://localhost:8080/"
        },
        "id": "q_TsKPMFDYWF",
        "outputId": "18394266-b105-44ac-9f87-855bfcbd6880"
      },
      "source": [
        "!./sum < input1.txt"
      ],
      "execution_count": 9,
      "outputs": [
        {
          "output_type": "stream",
          "text": [
            "14"
          ],
          "name": "stdout"
        }
      ]
    },
    {
      "cell_type": "code",
      "metadata": {
        "colab": {
          "base_uri": "https://localhost:8080/"
        },
        "id": "h_leLRwtDZRf",
        "outputId": "ebfcd499-564a-4ae7-a66b-f4849968b58e"
      },
      "source": [
        "!./sum < input2.txt"
      ],
      "execution_count": 10,
      "outputs": [
        {
          "output_type": "stream",
          "text": [
            "5"
          ],
          "name": "stdout"
        }
      ]
    },
    {
      "cell_type": "markdown",
      "metadata": {
        "id": "XpprDeHDDoJv"
      },
      "source": [
        "**Comparing files with grep**"
      ]
    },
    {
      "cell_type": "code",
      "metadata": {
        "id": "Urvp1yvQDuUw"
      },
      "source": [
        "!grep -xvFf output1.txt output1.txt"
      ],
      "execution_count": 11,
      "outputs": []
    },
    {
      "cell_type": "code",
      "metadata": {
        "colab": {
          "base_uri": "https://localhost:8080/"
        },
        "id": "A_JLMscaD5pM",
        "outputId": "9906f45d-68e3-4c3c-f8f0-c510dd08c2d9"
      },
      "source": [
        "!grep -xvFf output1.txt output2.txt"
      ],
      "execution_count": 12,
      "outputs": [
        {
          "output_type": "stream",
          "text": [
            "5\n"
          ],
          "name": "stdout"
        }
      ]
    },
    {
      "cell_type": "code",
      "metadata": {
        "colab": {
          "base_uri": "https://localhost:8080/"
        },
        "id": "9T8dntQXD6L5",
        "outputId": "01767832-fe7c-4230-cd55-cd98e6e6e163"
      },
      "source": [
        "!grep -xvFf output2.txt output1.txt"
      ],
      "execution_count": 13,
      "outputs": [
        {
          "output_type": "stream",
          "text": [
            "14\n"
          ],
          "name": "stdout"
        }
      ]
    },
    {
      "cell_type": "code",
      "metadata": {
        "id": "prRtMX8UD9DM"
      },
      "source": [
        "!./sum < input1.txt> ctest1.txt\n",
        "!grep -xvFf output1.txt ctest1.txt"
      ],
      "execution_count": 14,
      "outputs": []
    },
    {
      "cell_type": "code",
      "metadata": {
        "id": "8nLpELauEBLw"
      },
      "source": [
        "!./sum < input2.txt > ctest2.txt\n",
        "!grep -xvFf output2.txt ctest2.txt"
      ],
      "execution_count": 15,
      "outputs": []
    },
    {
      "cell_type": "markdown",
      "metadata": {
        "id": "YgIMcvhXEFhJ"
      },
      "source": [
        "##### **Python**\n"
      ]
    },
    {
      "cell_type": "code",
      "metadata": {
        "colab": {
          "base_uri": "https://localhost:8080/"
        },
        "id": "Fosb92cKEJWM",
        "outputId": "245473c6-199d-494a-a8ce-cd203098f648"
      },
      "source": [
        "%%writefile sum.py\n",
        "# python3\n",
        "\n",
        "def sum_of_two_digits(first_digit, second_digit):\n",
        "    return first_digit + second_digit\n",
        "\n",
        "if __name__ == '__main__':\n",
        "    a, b = map(int, input().split())\n",
        "    print(sum_of_two_digits(a, b))"
      ],
      "execution_count": 16,
      "outputs": [
        {
          "output_type": "stream",
          "text": [
            "Writing sum.py\n"
          ],
          "name": "stdout"
        }
      ]
    },
    {
      "cell_type": "code",
      "metadata": {
        "colab": {
          "base_uri": "https://localhost:8080/"
        },
        "id": "rNeUbBdkEOUu",
        "outputId": "7c84b9ba-f8bb-41cf-b7b0-5f8310d45fe5"
      },
      "source": [
        "!python sum.py4 "
      ],
      "execution_count": 17,
      "outputs": [
        {
          "output_type": "stream",
          "text": [
            "python3: can't open file 'sum.py4': [Errno 2] No such file or directory\n"
          ],
          "name": "stdout"
        }
      ]
    },
    {
      "cell_type": "code",
      "metadata": {
        "id": "bjtFHxuFEOI8"
      },
      "source": [
        "!python sum.py  < input1.txt> ptest1.txt\n",
        "!grep -xvFf output1.txt ptest1.txt"
      ],
      "execution_count": 18,
      "outputs": []
    },
    {
      "cell_type": "code",
      "metadata": {
        "id": "B_m7sIt2EN9e"
      },
      "source": [
        "!python sum.py  < input2.txt> ptest2.txt\n",
        "!grep -xvFf output2.txt ptest2.txt"
      ],
      "execution_count": 19,
      "outputs": []
    },
    {
      "cell_type": "markdown",
      "metadata": {
        "id": "WT5wyizcPGPs"
      },
      "source": [
        "### **Maximum Pairwise Product Programming**"
      ]
    },
    {
      "cell_type": "markdown",
      "metadata": {
        "id": "skHEwyEFPLBz"
      },
      "source": [
        "#### **C++: Naive**"
      ]
    },
    {
      "cell_type": "code",
      "metadata": {
        "colab": {
          "base_uri": "https://localhost:8080/"
        },
        "id": "bVVMmTcbPHyr",
        "outputId": "80415fdb-6464-4227-96a7-a30fea48f55d"
      },
      "source": [
        "%%writefile max_pairwise_product1.cpp\n",
        "#include <iostream>\n",
        "#include <vector>\n",
        "#include <algorithm>\n",
        "\n",
        "int MaxPairwiseProduct(const std::vector<int>& numbers) {\n",
        "    int max_product = 0;\n",
        "    int n = numbers.size();\n",
        "\n",
        "    for (int first = 0; first < n; ++first) {\n",
        "        for (int second = first + 1; second < n; ++second) {\n",
        "            max_product = std::max(max_product,\n",
        "                numbers[first] * numbers[second]);\n",
        "        }\n",
        "    }\n",
        "\n",
        "    return max_product;\n",
        "}\n",
        "\n",
        "int main() {\n",
        "    int n;\n",
        "    std::cin >> n;\n",
        "    std::vector<int> numbers(n);\n",
        "    for (int i = 0; i < n; ++i) {\n",
        "        std::cin >> numbers[i];\n",
        "    }\n",
        "\n",
        "    std::cout << MaxPairwiseProduct(numbers) << \"\\n\";\n",
        "    return 0;\n",
        "}"
      ],
      "execution_count": 20,
      "outputs": [
        {
          "output_type": "stream",
          "text": [
            "Writing max_pairwise_product1.cpp\n"
          ],
          "name": "stdout"
        }
      ]
    },
    {
      "cell_type": "code",
      "metadata": {
        "colab": {
          "base_uri": "https://localhost:8080/"
        },
        "id": "8oKBKKBRPQNB",
        "outputId": "ad18e38a-b9ea-4d01-bf98-cb3ec8cb050e"
      },
      "source": [
        "!g++ max_pairwise_product1.cpp -o max_pairwise_product1\n",
        "!./max_pairwise_product1"
      ],
      "execution_count": 21,
      "outputs": [
        {
          "output_type": "stream",
          "text": [
            "3\n",
            "2 5 3\n",
            "15\n"
          ],
          "name": "stdout"
        }
      ]
    },
    {
      "cell_type": "markdown",
      "metadata": {
        "id": "bJQnyYTQPSm0"
      },
      "source": [
        "Edge case: largest input\n",
        "\n",
        "Exists an overflow"
      ]
    },
    {
      "cell_type": "code",
      "metadata": {
        "colab": {
          "base_uri": "https://localhost:8080/"
        },
        "id": "EiEA_WUMPTOQ",
        "outputId": "b23c78ec-4931-4b8c-94e5-1117b1ddbb83"
      },
      "source": [
        "%%writefile input1.txt\n",
        "6\n",
        "1 3 200000 9 200000 23"
      ],
      "execution_count": 22,
      "outputs": [
        {
          "output_type": "stream",
          "text": [
            "Overwriting input1.txt\n"
          ],
          "name": "stdout"
        }
      ]
    },
    {
      "cell_type": "code",
      "metadata": {
        "colab": {
          "base_uri": "https://localhost:8080/"
        },
        "id": "gm_voOJDPZbl",
        "outputId": "92b53f41-53bd-4d99-e9b5-306117d1838d"
      },
      "source": [
        "%time\n",
        "!./max_pairwise_product1 < input1.txt"
      ],
      "execution_count": 23,
      "outputs": [
        {
          "output_type": "stream",
          "text": [
            "CPU times: user 6 µs, sys: 1e+03 ns, total: 7 µs\n",
            "Wall time: 41.2 µs\n",
            "1345294336\n"
          ],
          "name": "stdout"
        }
      ]
    },
    {
      "cell_type": "code",
      "metadata": {
        "colab": {
          "base_uri": "https://localhost:8080/"
        },
        "id": "M-JHd3v_Pc5-",
        "outputId": "5b937259-33a4-4537-ccd0-dafc79b6555e"
      },
      "source": [
        "%%writefile max_pairwise_product2.cpp\n",
        "#include <iostream>\n",
        "#include <vector>\n",
        "#include <algorithm>\n",
        "\n",
        "long long MaxPairwiseProduct(const std::vector<int>& numbers) {\n",
        "    long long max_product = 0LL;\n",
        "\t  long long aux_product = 0LL;\n",
        "    int n = numbers.size();\n",
        "\n",
        "    for (int first = 0; first < n; ++first) {\n",
        "        for (int second = first + 1; second < n; ++second) {\n",
        "\t\t\t       aux_product =  (long long) numbers[first] * numbers[second];\n",
        "            if ( max_product < aux_product)  {\n",
        "\t\t\t\t        max_product = aux_product;\n",
        "             }\n",
        "        }\n",
        "    }\n",
        "\n",
        "    return max_product;\n",
        "}\n",
        "\n",
        "int main() {\n",
        "    int n;\n",
        "    std::cin >> n;\n",
        "    std::vector<int> numbers(n);\n",
        "    for (int i = 0; i < n; ++i) {\n",
        "        std::cin >> numbers[i];\n",
        "    }\n",
        "\n",
        "    std::cout << MaxPairwiseProduct(numbers) << \"\\n\";\n",
        "    return 0;\n",
        "}"
      ],
      "execution_count": 24,
      "outputs": [
        {
          "output_type": "stream",
          "text": [
            "Writing max_pairwise_product2.cpp\n"
          ],
          "name": "stdout"
        }
      ]
    },
    {
      "cell_type": "code",
      "metadata": {
        "colab": {
          "base_uri": "https://localhost:8080/"
        },
        "id": "Tl9cqLvMPe0c",
        "outputId": "b251042b-aeb5-4afb-a5a3-2ffe912280c0"
      },
      "source": [
        "%time\n",
        "!g++ max_pairwise_product2.cpp -o max_pairwise_product2\n",
        "!./max_pairwise_product2 < input1.txt"
      ],
      "execution_count": 25,
      "outputs": [
        {
          "output_type": "stream",
          "text": [
            "CPU times: user 5 µs, sys: 1e+03 ns, total: 6 µs\n",
            "Wall time: 9.3 µs\n",
            "40000000000\n"
          ],
          "name": "stdout"
        }
      ]
    },
    {
      "cell_type": "markdown",
      "metadata": {
        "id": "BR1q1ia-PiUW"
      },
      "source": [
        "#### **C++: Efficient** \n",
        "Solving the problem more efficiently"
      ]
    },
    {
      "cell_type": "code",
      "metadata": {
        "colab": {
          "base_uri": "https://localhost:8080/"
        },
        "id": "gCwS-eGhPjDM",
        "outputId": "77a5e738-a4b7-4b59-db8a-3f6be0008928"
      },
      "source": [
        "%%writefile max_pairwise_product_3.cpp\n",
        "#include <iostream>\n",
        "#include <vector>\n",
        "#include <algorithm>\n",
        "\n",
        "int main() {\n",
        "    int n;\n",
        "    std::cin >> n;\n",
        "    long long max = 0LL;\n",
        "    long long max2 = 0LL;\n",
        "    long long number = 0LL ;\n",
        "    for (int i = 0; i < n; ++i) {\n",
        "        std::cin >> number;\n",
        "        if(number >= max){\n",
        "            max2 = max;\n",
        "            max = number;\n",
        "        }\n",
        "        else if(number > max2 ){\n",
        "            max2 = number;\n",
        "        }\n",
        "    }\n",
        "    std::cout << max*max2 << \"\\n\";\n",
        "\n",
        "    return 0;\n",
        "}"
      ],
      "execution_count": 26,
      "outputs": [
        {
          "output_type": "stream",
          "text": [
            "Writing max_pairwise_product_3.cpp\n"
          ],
          "name": "stdout"
        }
      ]
    },
    {
      "cell_type": "code",
      "metadata": {
        "colab": {
          "base_uri": "https://localhost:8080/"
        },
        "id": "em-A1UyRPpFI",
        "outputId": "8cf15a40-9e16-4998-aa3d-e264a1e6661a"
      },
      "source": [
        "!g++ max_pairwise_product_3.cpp -o max_pairwise_product_3\n",
        "!./max_pairwise_product_3"
      ],
      "execution_count": 27,
      "outputs": [
        {
          "output_type": "stream",
          "text": [
            "5\n",
            "3 1 5 2 7\n",
            "35\n"
          ],
          "name": "stdout"
        }
      ]
    },
    {
      "cell_type": "markdown",
      "metadata": {
        "id": "__E1YgvqPsqZ"
      },
      "source": [
        "Now, define a `python` function to generate the test data, for the stress test.\n",
        "Here, we're using `python` for generate random data and write it in the `stress.txt` file.  "
      ]
    },
    {
      "cell_type": "code",
      "metadata": {
        "id": "uxKRoZefPt0C"
      },
      "source": [
        "import numpy as np\n",
        "from random import randint\n",
        "\n",
        "def generate_numbers(min_n, max_n, min_ai, max_ai):\n",
        "  n = randint(min_n, max_n)\n",
        "  print(\"Writing {} numbers in stress.txt (...)\".format(n))\n",
        "  f = open(\"stress.txt\", 'w')\n",
        "  f.write(\"{}\\n\".format(n))\n",
        "\n",
        "  for i in range(n):\n",
        "    ai = randint(min_ai, max_ai)\n",
        "    f.write(\"{}\".format(ai)+\" \")\n",
        "  \n",
        "  print(\"Operation completed\")"
      ],
      "execution_count": 28,
      "outputs": []
    },
    {
      "cell_type": "code",
      "metadata": {
        "colab": {
          "base_uri": "https://localhost:8080/"
        },
        "id": "nQw5tVv-PxRW",
        "outputId": "9d6d0b79-73ea-4974-e379-d261ee6dcdfa"
      },
      "source": [
        "%%time\n",
        "# max_boundary = (2*10)**5\n",
        "max_boundary = (2*10)**5\n",
        "generate_numbers(2,max_boundary, 0, max_boundary)"
      ],
      "execution_count": 29,
      "outputs": [
        {
          "output_type": "stream",
          "text": [
            "Writing 1440983 numbers in stress.txt (...)\n",
            "Operation completed\n",
            "CPU times: user 2.76 s, sys: 23.7 ms, total: 2.78 s\n",
            "Wall time: 2.78 s\n"
          ],
          "name": "stdout"
        }
      ]
    },
    {
      "cell_type": "code",
      "metadata": {
        "colab": {
          "base_uri": "https://localhost:8080/"
        },
        "id": "htwrz2ZwPzMv",
        "outputId": "08f23c5f-2cff-49a6-86a1-68a7dc18e0ff"
      },
      "source": [
        "## Read first 100 bytes of stress.txt\n",
        "!head -c 100 stress.txt"
      ],
      "execution_count": 30,
      "outputs": [
        {
          "output_type": "stream",
          "text": [
            "1440983\n",
            "3085906 1240302 2603759 646204 1854176 1095458 1145942 2371735 2794175 2509334 184885 174556"
          ],
          "name": "stdout"
        }
      ]
    },
    {
      "cell_type": "markdown",
      "metadata": {
        "id": "iEcX-xzsP1nx"
      },
      "source": [
        "Remember that the first line is $n$, so in this case we're gonna test around $1.700.000$ numbers!\n",
        "\n",
        "Naive algorithm is $O(n^2)$ meanwhile, efficent algorithm is $O(n)$, this can be observed in the stress testing section."
      ]
    },
    {
      "cell_type": "markdown",
      "metadata": {
        "id": "MKfEvTv1P5H6"
      },
      "source": [
        "Stress testing\n",
        "\n",
        "Using generated stress.txt file for test two implementations of the Algorithm in C++"
      ]
    },
    {
      "cell_type": "code",
      "metadata": {
        "colab": {
          "base_uri": "https://localhost:8080/"
        },
        "id": "EBbCKlhyP3hF",
        "outputId": "814214e3-6e92-4674-a953-09abdcdacb5b"
      },
      "source": [
        "%%time\n",
        "#Using naive\n",
        "!./max_pairwise_product2 < stress.txt"
      ],
      "execution_count": 31,
      "outputs": [
        {
          "output_type": "stream",
          "text": [
            "6 1 3 200000 9 200000 23\n",
            "^C\n",
            "CPU times: user 6.93 s, sys: 924 ms, total: 7.85 s\n",
            "Wall time: 20min 12s\n"
          ],
          "name": "stdout"
        }
      ]
    },
    {
      "cell_type": "markdown",
      "metadata": {
        "id": "AA11tqCtP_6R"
      },
      "source": [
        "Time expensive, stopped at 4min 25s"
      ]
    },
    {
      "cell_type": "code",
      "metadata": {
        "colab": {
          "base_uri": "https://localhost:8080/"
        },
        "id": "mtMyNF9WQAi4",
        "outputId": "4ab7c414-c772-477e-8e07-8d128dd379c3"
      },
      "source": [
        "%%time\n",
        "#Using efficent solution\n",
        "!./max_pairwise_product_3 < stress.txt"
      ],
      "execution_count": 32,
      "outputs": [
        {
          "output_type": "stream",
          "text": [
            "10239984000006\n",
            "CPU times: user 12 ms, sys: 8.31 ms, total: 20.4 ms\n",
            "Wall time: 515 ms\n"
          ],
          "name": "stdout"
        }
      ]
    },
    {
      "cell_type": "markdown",
      "metadata": {
        "id": "jVkvPH5CQG_F"
      },
      "source": [
        "#### **Python: Naive**"
      ]
    },
    {
      "cell_type": "code",
      "metadata": {
        "colab": {
          "base_uri": "https://localhost:8080/"
        },
        "id": "JUIeupmQQGmI",
        "outputId": "4a3e3817-f0e7-434f-9c38-db92733a953f"
      },
      "source": [
        "%%writefile max_pairwise_product_naive.py\n",
        "\n",
        "def max_pairwise_product(numbers):\n",
        "    n = len(numbers)\n",
        "    max_product = 0\n",
        "    for first in range(n):\n",
        "        for second in range(first + 1, n):\n",
        "            max_product = max(max_product,\n",
        "                numbers[first] * numbers[second])\n",
        "\n",
        "    return max_product\n",
        "\n",
        "\n",
        "if __name__ == '__main__':\n",
        "    input_n = int(input())\n",
        "    input_numbers = [int(x) for x in input().split()]\n",
        "    print(max_pairwise_product(input_numbers))"
      ],
      "execution_count": 33,
      "outputs": [
        {
          "output_type": "stream",
          "text": [
            "Writing max_pairwise_product_naive.py\n"
          ],
          "name": "stdout"
        }
      ]
    },
    {
      "cell_type": "code",
      "metadata": {
        "colab": {
          "base_uri": "https://localhost:8080/"
        },
        "id": "A2Ev-t7hQN_F",
        "outputId": "5f4f2993-b3eb-4575-f5d4-2f3d435a3513"
      },
      "source": [
        "!python3 max_pairwise_product_naive.py"
      ],
      "execution_count": 34,
      "outputs": [
        {
          "output_type": "stream",
          "text": [
            "7\n",
            "3 4 5 3 12 4 22\n",
            "264\n"
          ],
          "name": "stdout"
        }
      ]
    },
    {
      "cell_type": "markdown",
      "metadata": {
        "id": "5pf6AP0aQQ9u"
      },
      "source": [
        "#### **Python: Efficient**"
      ]
    },
    {
      "cell_type": "code",
      "metadata": {
        "colab": {
          "base_uri": "https://localhost:8080/"
        },
        "id": "fmRZgQ5DQQTd",
        "outputId": "b5560082-3cd6-4acd-9d9f-ee6b6ed3e2c8"
      },
      "source": [
        "%%writefile max_pairwise_product_efficent.py\n",
        "#python3\n",
        "def max_pairwise_product_efficent():\n",
        "  n = int(input())\n",
        "  numbers = [int(x) for x in input().split()]\n",
        "  max = 0\n",
        "  max2 = 0\n",
        "\n",
        "  for i in range(len(numbers)):\n",
        "    if(numbers[i]>= max):\n",
        "      max2 = max\n",
        "      max  = numbers[i]\n",
        "    elif(numbers[i] > max2):  \n",
        "      max2 = numbers[i]\n",
        "\n",
        "  return (max*max2)\n",
        "\n",
        "print(max_pairwise_product_efficent())"
      ],
      "execution_count": 35,
      "outputs": [
        {
          "output_type": "stream",
          "text": [
            "Writing max_pairwise_product_efficent.py\n"
          ],
          "name": "stdout"
        }
      ]
    },
    {
      "cell_type": "code",
      "metadata": {
        "colab": {
          "base_uri": "https://localhost:8080/"
        },
        "id": "IDs1M3PFQVEV",
        "outputId": "4d6f33a3-0cb7-4eec-bd9a-1578be67c00a"
      },
      "source": [
        "!python3 max_pairwise_product_efficent.py"
      ],
      "execution_count": 36,
      "outputs": [
        {
          "output_type": "stream",
          "text": [
            "5\n",
            "2 3 1 4 5\n",
            "20\n"
          ],
          "name": "stdout"
        }
      ]
    },
    {
      "cell_type": "code",
      "metadata": {
        "colab": {
          "base_uri": "https://localhost:8080/"
        },
        "id": "N2xYzJoyQkd_",
        "outputId": "b5ae2cad-1752-4707-f95b-60d306cfe662"
      },
      "source": [
        "# Efficent Algorithm\n",
        "%%time\n",
        "!python3 max_pairwise_product_efficent.py < stress.txt"
      ],
      "execution_count": 37,
      "outputs": [
        {
          "output_type": "stream",
          "text": [
            "10239984000006\n",
            "CPU times: user 8.42 ms, sys: 8.1 ms, total: 16.5 ms\n",
            "Wall time: 826 ms\n"
          ],
          "name": "stdout"
        }
      ]
    }
  ]
}